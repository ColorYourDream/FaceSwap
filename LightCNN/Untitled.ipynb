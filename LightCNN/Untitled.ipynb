{
 "cells": [
  {
   "cell_type": "code",
   "execution_count": 1,
   "metadata": {},
   "outputs": [],
   "source": [
    "import numpy as np"
   ]
  },
  {
   "cell_type": "code",
   "execution_count": 3,
   "metadata": {},
   "outputs": [
    {
     "name": "stdout",
     "output_type": "stream",
     "text": [
      " Volume in drive C is OS\n",
      " Volume Serial Number is 66DE-6DF0\n",
      "\n",
      " Directory of C:\\Users\\Filip\\Desktop\\LightCNN\\save\n",
      "\n",
      "05/08/2020  11:46 AM    <DIR>          .\n",
      "05/08/2020  11:46 AM    <DIR>          ..\n",
      "05/08/2020  11:46 AM             1,024 dupla1.feat\n",
      "05/08/2020  11:46 AM             1,024 dupla2.feat\n",
      "05/08/2020  11:46 AM             1,024 musko.feat\n",
      "05/08/2020  11:46 AM             1,024 zenska.feat\n",
      "               4 File(s)          4,096 bytes\n",
      "               2 Dir(s)  127,130,296,320 bytes free\n"
     ]
    }
   ],
   "source": [
    "!dir save"
   ]
  },
  {
   "cell_type": "code",
   "execution_count": 6,
   "metadata": {
    "collapsed": true
   },
   "outputs": [
    {
     "ename": "OSError",
     "evalue": "Failed to interpret file 'save/dupla1.feat' as a pickle",
     "output_type": "error",
     "traceback": [
      "\u001b[1;31m---------------------------------------------------------------------------\u001b[0m",
      "\u001b[1;31mUnpicklingError\u001b[0m                           Traceback (most recent call last)",
      "\u001b[1;32m~\\Anaconda3\\lib\\site-packages\\numpy\\lib\\npyio.py\u001b[0m in \u001b[0;36mload\u001b[1;34m(file, mmap_mode, allow_pickle, fix_imports, encoding)\u001b[0m\n\u001b[0;32m    459\u001b[0m             \u001b[1;32mtry\u001b[0m\u001b[1;33m:\u001b[0m\u001b[1;33m\u001b[0m\u001b[1;33m\u001b[0m\u001b[0m\n\u001b[1;32m--> 460\u001b[1;33m                 \u001b[1;32mreturn\u001b[0m \u001b[0mpickle\u001b[0m\u001b[1;33m.\u001b[0m\u001b[0mload\u001b[0m\u001b[1;33m(\u001b[0m\u001b[0mfid\u001b[0m\u001b[1;33m,\u001b[0m \u001b[1;33m**\u001b[0m\u001b[0mpickle_kwargs\u001b[0m\u001b[1;33m)\u001b[0m\u001b[1;33m\u001b[0m\u001b[1;33m\u001b[0m\u001b[0m\n\u001b[0m\u001b[0;32m    461\u001b[0m             \u001b[1;32mexcept\u001b[0m \u001b[0mException\u001b[0m\u001b[1;33m:\u001b[0m\u001b[1;33m\u001b[0m\u001b[1;33m\u001b[0m\u001b[0m\n",
      "\u001b[1;31mUnpicklingError\u001b[0m: invalid load key, '\\xe9'.",
      "\nDuring handling of the above exception, another exception occurred:\n",
      "\u001b[1;31mOSError\u001b[0m                                   Traceback (most recent call last)",
      "\u001b[1;32m<ipython-input-6-ecb16a68cc81>\u001b[0m in \u001b[0;36m<module>\u001b[1;34m\u001b[0m\n\u001b[1;32m----> 1\u001b[1;33m \u001b[0mdupla1\u001b[0m \u001b[1;33m=\u001b[0m \u001b[0mnp\u001b[0m\u001b[1;33m.\u001b[0m\u001b[0mload\u001b[0m\u001b[1;33m(\u001b[0m\u001b[1;34m\"save/dupla1.feat\"\u001b[0m\u001b[1;33m,\u001b[0m \u001b[0mallow_pickle\u001b[0m\u001b[1;33m=\u001b[0m\u001b[1;32mTrue\u001b[0m\u001b[1;33m)\u001b[0m\u001b[1;33m\u001b[0m\u001b[1;33m\u001b[0m\u001b[0m\n\u001b[0m",
      "\u001b[1;32m~\\Anaconda3\\lib\\site-packages\\numpy\\lib\\npyio.py\u001b[0m in \u001b[0;36mload\u001b[1;34m(file, mmap_mode, allow_pickle, fix_imports, encoding)\u001b[0m\n\u001b[0;32m    461\u001b[0m             \u001b[1;32mexcept\u001b[0m \u001b[0mException\u001b[0m\u001b[1;33m:\u001b[0m\u001b[1;33m\u001b[0m\u001b[1;33m\u001b[0m\u001b[0m\n\u001b[0;32m    462\u001b[0m                 raise IOError(\n\u001b[1;32m--> 463\u001b[1;33m                     \"Failed to interpret file %s as a pickle\" % repr(file))\n\u001b[0m\u001b[0;32m    464\u001b[0m     \u001b[1;32mfinally\u001b[0m\u001b[1;33m:\u001b[0m\u001b[1;33m\u001b[0m\u001b[1;33m\u001b[0m\u001b[0m\n\u001b[0;32m    465\u001b[0m         \u001b[1;32mif\u001b[0m \u001b[0mown_fid\u001b[0m\u001b[1;33m:\u001b[0m\u001b[1;33m\u001b[0m\u001b[1;33m\u001b[0m\u001b[0m\n",
      "\u001b[1;31mOSError\u001b[0m: Failed to interpret file 'save/dupla1.feat' as a pickle"
     ]
    }
   ],
   "source": [
    "dupla1 = np.load(\"save/dupla1.feat\", allow_pickle=True)"
   ]
  },
  {
   "cell_type": "code",
   "execution_count": 27,
   "metadata": {},
   "outputs": [],
   "source": [
    "dupla1 = np.load(\"save/dupla1.png.npy\")\n",
    "dupla2 = np.load(\"save/dupla2.png.npy\")\n",
    "musko = np.load(\"save/musko.png.npy\")\n",
    "zenska = np.load(\"save/zenska.png.npy\")\n",
    "dupli0 = np.load(\"save/dupli0.png.npy\")\n",
    "dupli1 = np.load(\"save/dupli1.png.npy\")\n",
    "dupli2 = np.load(\"save/dupli2.png.npy\")\n",
    "dupli3 = np.load(\"save/dupli3.png.npy\")"
   ]
  },
  {
   "cell_type": "code",
   "execution_count": 31,
   "metadata": {},
   "outputs": [],
   "source": [
    "dupla1fc = np.load(\"save/dupla1.png.fc.npy\")\n",
    "dupla2fc = np.load(\"save/dupla2.png.fc.npy\")\n",
    "muskofc = np.load(\"save/musko.png.fc.npy\")\n",
    "zenskafc = np.load(\"save/zenska.png.fc.npy\")\n",
    "dupli0fc = np.load(\"save/dupli0.png.fc.npy\")\n",
    "dupli1fc = np.load(\"save/dupli1.png.fc.npy\")\n",
    "dupli2fc = np.load(\"save/dupli2.png.fc.npy\")\n",
    "dupli3fc = np.load(\"save/dupli3.png.fc.npy\")"
   ]
  },
  {
   "cell_type": "code",
   "execution_count": 11,
   "metadata": {},
   "outputs": [
    {
     "name": "stdout",
     "output_type": "stream",
     "text": [
      "(256,)\n",
      "(256,)\n",
      "(256,)\n",
      "(256,)\n"
     ]
    }
   ],
   "source": [
    "print(dupla1.shape)\n",
    "print(dupla2.shape)\n",
    "print(musko.shape)\n",
    "print(zenska.shape)"
   ]
  },
  {
   "cell_type": "code",
   "execution_count": 22,
   "metadata": {},
   "outputs": [
    {
     "name": "stdout",
     "output_type": "stream",
     "text": [
      "25.100729\n",
      "32.02172\n",
      "26.301094\n",
      "27.912855\n",
      "28.429207\n",
      "25.732506\n"
     ]
    }
   ],
   "source": [
    "print(np.amax(dupla1))\n",
    "print(np.amax(dupla2))\n",
    "print(np.amax(musko))\n",
    "print(np.amax(zenska))\n",
    "print(np.amax(dupli1))\n",
    "print(np.amax(dupli2))"
   ]
  },
  {
   "cell_type": "code",
   "execution_count": 28,
   "metadata": {},
   "outputs": [
    {
     "name": "stdout",
     "output_type": "stream",
     "text": [
      "4.4543877\n",
      "4.4543877\n",
      "10.1140785\n",
      "8.857094\n",
      "9.00789\n",
      "1.4147283\n",
      "3.7521114\n",
      "1.4147283\n"
     ]
    }
   ],
   "source": [
    "print(np.mean(np.absolute(dupla1-dupla2)))\n",
    "print(np.mean(np.absolute(dupla2-dupla1)))\n",
    "print(np.mean(np.absolute(dupla1-musko)))\n",
    "print(np.mean(np.absolute(dupla1-zenska)))\n",
    "print(np.mean(np.absolute(dupla1-dupli1)))\n",
    "print(np.mean(np.absolute(dupli1-dupli2)))\n",
    "print(np.mean(np.absolute(dupli0-dupli1)))\n",
    "print(np.mean(np.absolute(dupli1-dupli2)))"
   ]
  },
  {
   "cell_type": "code",
   "execution_count": 32,
   "metadata": {},
   "outputs": [
    {
     "name": "stdout",
     "output_type": "stream",
     "text": [
      "1.1384839\n",
      "1.1384839\n",
      "2.640198\n",
      "2.190053\n",
      "2.487008\n",
      "0.3704213\n",
      "0.9514079\n",
      "0.3704213\n"
     ]
    }
   ],
   "source": [
    "print(np.mean(np.absolute(dupla1fc-dupla2fc)))\n",
    "print(np.mean(np.absolute(dupla2fc-dupla1fc)))\n",
    "print(np.mean(np.absolute(dupla1fc-muskofc)))\n",
    "print(np.mean(np.absolute(dupla1fc-zenskafc)))\n",
    "print(np.mean(np.absolute(dupla1fc-dupli1fc)))\n",
    "print(np.mean(np.absolute(dupli1fc-dupli2fc)))\n",
    "print(np.mean(np.absolute(dupli0fc-dupli1fc)))\n",
    "print(np.mean(np.absolute(dupli1fc-dupli2fc)))"
   ]
  }
 ],
 "metadata": {
  "kernelspec": {
   "display_name": "Python 3",
   "language": "python",
   "name": "python3"
  },
  "language_info": {
   "codemirror_mode": {
    "name": "ipython",
    "version": 3
   },
   "file_extension": ".py",
   "mimetype": "text/x-python",
   "name": "python",
   "nbconvert_exporter": "python",
   "pygments_lexer": "ipython3",
   "version": "3.6.10"
  }
 },
 "nbformat": 4,
 "nbformat_minor": 4
}
